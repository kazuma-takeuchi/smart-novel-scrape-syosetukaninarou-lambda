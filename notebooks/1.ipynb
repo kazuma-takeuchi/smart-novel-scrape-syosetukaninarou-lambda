{
 "metadata": {
  "language_info": {
   "codemirror_mode": {
    "name": "ipython",
    "version": 3
   },
   "file_extension": ".py",
   "mimetype": "text/x-python",
   "name": "python",
   "nbconvert_exporter": "python",
   "pygments_lexer": "ipython3",
   "version": "3.7.2-final"
  },
  "orig_nbformat": 2,
  "kernelspec": {
   "name": "Python 3.7.2 64-bit ('base': conda)",
   "display_name": "Python 3.7.2 64-bit ('base': conda)",
   "metadata": {
    "interpreter": {
     "hash": "cfdc0ffa99aec76c496e66f6b8263e3ec2a7de565ba176e865374410eb6a77fd"
    }
   }
  }
 },
 "nbformat": 4,
 "nbformat_minor": 2,
 "cells": [
  {
   "cell_type": "code",
   "execution_count": 1,
   "metadata": {},
   "outputs": [],
   "source": [
    "import os\n",
    "import re\n",
    "import json\n",
    "import time\n",
    "import base64\n",
    "import requests\n",
    "import logging\n",
    "from urllib.request import urlopen\n",
    "\n",
    "from datetime import datetime\n",
    "from bs4 import BeautifulSoup\n",
    "from datetime import datetime"
   ]
  },
  {
   "cell_type": "code",
   "execution_count": 2,
   "metadata": {},
   "outputs": [],
   "source": [
    "def get_html(url):\n",
    "    res = requests.get(url)\n",
    "    if res.status_code == 200:\n",
    "        return res.content\n",
    "    else:\n",
    "        return None"
   ]
  },
  {
   "cell_type": "code",
   "execution_count": 3,
   "metadata": {},
   "outputs": [],
   "source": [
    "def jst_str2ts_epoch_milli(jst, format=\"%Y-%m-%d %H:%M:%S\"):\n",
    "    dt = datetime.strptime(jst + \"+0900\", format + \"%z\")\n",
    "    ts = dt.timestamp() * 1000\n",
    "    return ts"
   ]
  },
  {
   "cell_type": "code",
   "execution_count": 19,
   "metadata": {},
   "outputs": [],
   "source": [
    "url = \"https://ncode.syosetu.com/novelview/infotop/ncode/n2047gk/\"\n",
    "res = urlopen(url)\n",
    "html = res.read().decode('utf-8')\n",
    "soup = BeautifulSoup(html)"
   ]
  },
  {
   "cell_type": "code",
   "execution_count": 25,
   "metadata": {},
   "outputs": [],
   "source": [
    "contents = soup.find(\"div\", id=\"contents_main\")\n",
    "noveltable1 = contents.find(\"table\", id=\"noveltable1\")\n",
    "noveltable2 = contents.find(\"table\", id=\"noveltable2\")"
   ]
  },
  {
   "cell_type": "code",
   "execution_count": 24,
   "metadata": {},
   "outputs": [
    {
     "output_type": "execute_result",
     "data": {
      "text/plain": [
       "'え、テイマーは使えないってパーティから追放したよね？～実は世界唯一の【精霊使い】だと判明した途端に手のひらを返されても遅い。精霊の王女様にめちゃくちゃ溺愛されながら、僕はマイペースに最強を目指すので'"
      ]
     },
     "metadata": {},
     "execution_count": 24
    }
   ],
   "source": [
    "# title\n",
    "contents.find(\"h1\").find(\"a\").get_text()"
   ]
  },
  {
   "cell_type": "code",
   "execution_count": 48,
   "metadata": {},
   "outputs": [
    {
     "output_type": "execute_result",
     "data": {
      "text/plain": [
       "'精霊の加護を受けて、スキルや魔法が使えるようになる世界。Ｓランクパーティに所属するテイマーのぼく、エレン。１５歳。戦う力はないけれど、索敵、荷物持ちなどでパーティに貢献していた。けれどパーティのリーダーから、戦闘に使えない役立たずだからと追放宣言される。しかも挑んだ高難易度ダンジョンで、大量の強敵から逃げるためのエサとして、ぼくを置き去りにしていった。モンスターに襲われ絶体絶命のピンチをむかえたぼくは、秘められた【精霊使い】の力を覚醒させる。精霊たちから無限にスキルをゲット。さらに精霊王の娘である不死鳥と契約し、最強となる。その一方で、パーティメンバーたちは、ぼくを追放したことで、精霊に嫌われ、持っていた力を全部没収。最弱までなり下がり、不運が連続するようになる。後からパーティに戻ってくれと泣きつかれるけど、もう遅い。契約した美しい精霊たちに溺愛されながら、ぼくは新しい仲間と、気ままな冒険者生活を送るのだった。'"
      ]
     },
     "metadata": {},
     "execution_count": 48
    }
   ],
   "source": [
    "# description\n",
    "re.sub(r\"[\\n\\ \\　]\", \"\", noveltable1.findAll(\"td\")[0].get_text())"
   ]
  },
  {
   "cell_type": "code",
   "execution_count": 31,
   "metadata": {},
   "outputs": [
    {
     "output_type": "execute_result",
     "data": {
      "text/plain": [
       "'茨木野'"
      ]
     },
     "metadata": {},
     "execution_count": 31
    }
   ],
   "source": [
    "# author\n",
    "noveltable1.find(\"a\").get_text()"
   ]
  },
  {
   "cell_type": "code",
   "execution_count": 43,
   "metadata": {},
   "outputs": [
    {
     "output_type": "execute_result",
     "data": {
      "text/plain": [
       "'R15 残酷な描写あり 男主人公 主人公最強 無双 ハーレム 追放 ざまぁ テイマー 成り上がり'"
      ]
     },
     "metadata": {},
     "execution_count": 43
    }
   ],
   "source": [
    "# tag\n",
    "re.sub(r'\\n+', '', noveltable1.findAll(\"td\")[2].get_text().strip().replace(\"\\xa0\", \" \"))"
   ]
  },
  {
   "cell_type": "code",
   "execution_count": 47,
   "metadata": {},
   "outputs": [
    {
     "output_type": "execute_result",
     "data": {
      "text/plain": [
       "'ハイファンタジー'"
      ]
     },
     "metadata": {},
     "execution_count": 47
    }
   ],
   "source": [
    "# genre\n",
    "re.sub(r\"[(〔].*[〕)]\", \"\", noveltable1.findAll(\"td\")[3].get_text())"
   ]
  },
  {
   "cell_type": "code",
   "execution_count": null,
   "metadata": {},
   "outputs": [],
   "source": []
  }
 ]
}