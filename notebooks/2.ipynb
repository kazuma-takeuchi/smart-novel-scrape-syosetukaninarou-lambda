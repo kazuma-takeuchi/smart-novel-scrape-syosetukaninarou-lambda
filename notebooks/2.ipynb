{
 "metadata": {
  "language_info": {
   "codemirror_mode": {
    "name": "ipython",
    "version": 3
   },
   "file_extension": ".py",
   "mimetype": "text/x-python",
   "name": "python",
   "nbconvert_exporter": "python",
   "pygments_lexer": "ipython3",
   "version": "3.7.2-final"
  },
  "orig_nbformat": 2,
  "kernelspec": {
   "name": "Python 3.7.2 64-bit ('base': conda)",
   "display_name": "Python 3.7.2 64-bit ('base': conda)",
   "metadata": {
    "interpreter": {
     "hash": "cfdc0ffa99aec76c496e66f6b8263e3ec2a7de565ba176e865374410eb6a77fd"
    }
   }
  }
 },
 "nbformat": 4,
 "nbformat_minor": 2,
 "cells": [
  {
   "cell_type": "code",
   "execution_count": 14,
   "metadata": {},
   "outputs": [],
   "source": [
    "import requests\n",
    "import json"
   ]
  },
  {
   "cell_type": "code",
   "execution_count": 18,
   "metadata": {},
   "outputs": [],
   "source": [
    "ncode = \"n2047gk\"\n",
    "out = \"json\"\n",
    "url = \"https://api.syosetu.com/novelapi/api\"\n",
    "params = {\n",
    "    \"ncode\": ncode,\n",
    "    \"out\": out\n",
    "}\n",
    "res = requests.get(url, params=params)"
   ]
  },
  {
   "cell_type": "code",
   "execution_count": 19,
   "metadata": {},
   "outputs": [
    {
     "output_type": "execute_result",
     "data": {
      "text/plain": [
       "{'title': 'え、テイマーは使えないってパーティから追放したよね？～実は世界唯一の【精霊使い】だと判明した途端に手のひらを返されても遅い。精霊の王女様にめちゃくちゃ溺愛されながら、僕はマイペースに最強を目指すので',\n",
       " 'ncode': 'N2047GK',\n",
       " 'userid': 252897,\n",
       " 'writer': '茨木野',\n",
       " 'story': '精霊の加護を受けて、スキルや魔法が使えるようになる世界。\\n\\nＳランクパーティに所属するテイマーのぼく、エレン。１５歳。\\n\\n戦う力はないけれど、索敵、荷物持ちなどでパーティに貢献していた。\\n\\nけれどパーティのリーダーから、戦闘に使えない役立たずだからと追放宣言される。\\n\\nしかも挑んだ高難易度ダンジョンで、大量の強敵から逃げるためのエサとして、ぼくを置き去りにしていった。\\n\\nモンスターに襲われ絶体絶命のピンチをむかえたぼくは、秘められた【精霊使い】の力を覚醒させる。\\n\\n精霊たちから無限にスキルをゲット。\\nさらに精霊王の娘である不死鳥と契約し、最強となる。\\n\\nその一方で、パーティメンバーたちは、ぼくを追放したことで、精霊に嫌われ、持っていた力を全部没収。\\n\\n最弱までなり下がり、不運が連続するようになる。\\n\\n後からパーティに戻ってくれと泣きつかれるけど、もう遅い。\\n\\n契約した美しい精霊たちに溺愛されながら、ぼくは新しい仲間と、気ままな冒険者生活を送るのだった。',\n",
       " 'biggenre': 2,\n",
       " 'genre': 201,\n",
       " 'gensaku': '',\n",
       " 'keyword': 'R15 残酷な描写あり 男主人公 主人公最強 無双 ハーレム 追放 ざまぁ テイマー 成り上がり',\n",
       " 'general_firstup': '2020-07-31 18:01:21',\n",
       " 'general_lastup': '2020-10-25 19:00:00',\n",
       " 'novel_type': 1,\n",
       " 'end': 1,\n",
       " 'general_all_no': 127,\n",
       " 'length': 426801,\n",
       " 'time': 854,\n",
       " 'isstop': 0,\n",
       " 'isr15': 1,\n",
       " 'isbl': 0,\n",
       " 'isgl': 0,\n",
       " 'iszankoku': 1,\n",
       " 'istensei': 0,\n",
       " 'istenni': 0,\n",
       " 'pc_or_k': 2,\n",
       " 'global_point': 100026,\n",
       " 'daily_point': 214,\n",
       " 'weekly_point': 1504,\n",
       " 'monthly_point': 6340,\n",
       " 'quarter_point': 99998,\n",
       " 'yearly_point': 99250,\n",
       " 'fav_novel_cnt': 20345,\n",
       " 'impression_cnt': 966,\n",
       " 'review_cnt': 13,\n",
       " 'all_point': 59336,\n",
       " 'all_hyoka_cnt': 6627,\n",
       " 'sasie_cnt': 0,\n",
       " 'kaiwaritu': 45,\n",
       " 'novelupdated_at': '2020-10-26 11:02:03',\n",
       " 'updated_at': '2020-10-26 15:27:43'}"
      ]
     },
     "metadata": {},
     "execution_count": 19
    }
   ],
   "source": [
    "json.loads(res.content.decode('utf-8'))[1]"
   ]
  },
  {
   "cell_type": "code",
   "execution_count": null,
   "metadata": {},
   "outputs": [],
   "source": []
  }
 ]
}